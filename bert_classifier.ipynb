{
  "nbformat": 4,
  "nbformat_minor": 0,
  "metadata": {
    "colab": {
      "name": "bert-classifier.ipynb",
      "provenance": []
    },
    "kernelspec": {
      "name": "python3",
      "display_name": "Python 3"
    }
  },
  "cells": [
    {
      "cell_type": "code",
      "metadata": {
        "id": "AUIQUL8av7qv",
        "colab_type": "code",
        "colab": {}
      },
      "source": [
        "from google.colab import drive\n",
        "drive.mount('/gdrive/')"
      ],
      "execution_count": null,
      "outputs": []
    },
    {
      "cell_type": "code",
      "metadata": {
        "id": "DlTjw-1OwEgu",
        "colab_type": "code",
        "colab": {}
      },
      "source": [
        "train= pd.read_csv('/gdrive/My Drive/nmt/data/train.csv', error_bad_lines=False)\n",
        "val= pd.read_csv('/gdrive/My Drive/nmt/data/val.csv', error_bad_lines=False)\n",
        "labels= pd.read_csv('/gdrive/My Drive/nmt/data/labels.csv', error_bad_lines=False)"
      ],
      "execution_count": null,
      "outputs": []
    },
    {
      "cell_type": "code",
      "metadata": {
        "id": "lqkmGs-Rsf9A",
        "colab_type": "code",
        "colab": {}
      },
      "source": [
        "from fast_bert.data_cls import BertDataBunch\n",
        "\n",
        "databunch = BertDataBunch(DATA_PATH, LABEL_PATH,\n",
        "                          tokenizer='bert-base-uncased',\n",
        "                          train_file='train.csv',\n",
        "                          val_file='val.csv',\n",
        "                          label_file='labels.csv',\n",
        "                          text_col='text',\n",
        "                          label_col='label',\n",
        "                          batch_size_per_gpu=16,\n",
        "                          max_seq_length=512,\n",
        "                          multi_gpu=True,\n",
        "                          multi_label=False,\n",
        "                          model_type='bert')"
      ],
      "execution_count": null,
      "outputs": []
    },
    {
      "cell_type": "code",
      "metadata": {
        "id": "XQ16CNOS0G1D",
        "colab_type": "code",
        "colab": {}
      },
      "source": [
        "# Language model Databunch\n",
        "from fast_bert.data_lm import BertLMDataBunch\n",
        "# Language model learner\n",
        "from fast_bert.learner_lm import BertLMLearner\n",
        "\n",
        "from pathlib import Path\n",
        "from box import Box"
      ],
      "execution_count": null,
      "outputs": []
    },
    {
      "cell_type": "code",
      "metadata": {
        "id": "Fp_Na_0o0HiW",
        "colab_type": "code",
        "colab": {}
      },
      "source": [
        "# # Box is a nice wrapper to create an object from a json dict\n",
        "# args = Box({\n",
        "#     \"seed\": 42,\n",
        "#     \"task_name\": 'imdb_reviews_lm',\n",
        "#     \"model_name\": 'roberta-base',\n",
        "#     \"model_type\": 'roberta',\n",
        "#     \"train_batch_size\": 16,\n",
        "#     \"learning_rate\": 4e-5,\n",
        "#     \"num_train_epochs\": 20,\n",
        "#     \"fp16\": True,\n",
        "#     \"fp16_opt_level\": \"O2\",\n",
        "#     \"warmup_steps\": 1000,\n",
        "#     \"logging_steps\": 0,\n",
        "#     \"max_seq_length\": 512,\n",
        "#     \"multi_gpu\": True if torch.cuda.device_count() > 1 else False\n",
        "# })\n",
        "\n",
        "DATA_PATH = Path('../lm_data/')\n",
        "LOG_PATH = Path('../logs')\n",
        "MODEL_PATH = Path('../lm_model_{}/'.format(args.model_type))\n",
        "\n",
        "DATA_PATH.mkdir(exist_ok=True)\n",
        "MODEL_PATH.mkdir(exist_ok=True)\n",
        "LOG_PATH.mkdir(exist_ok=True)"
      ],
      "execution_count": null,
      "outputs": []
    },
    {
      "cell_type": "code",
      "metadata": {
        "id": "is-vYpTMs4U1",
        "colab_type": "code",
        "colab": {}
      },
      "source": [
        "from fast_bert.learner_cls import BertLearner\n",
        "from fast_bert.metrics import accuracy\n",
        "import logging\n",
        "\n",
        "logger = logging.getLogger()\n",
        "device_cuda = torch.device(\"cuda\")\n",
        "metrics = [{'name': 'accuracy', 'function': accuracy}]\n",
        "\n",
        "learner = BertLearner.from_pretrained_model(\n",
        "\t\t\t\t\t\tdatabunch,\n",
        "\t\t\t\t\t\tpretrained_path='bert-base-uncased',\n",
        "\t\t\t\t\t\tmetrics=metrics,\n",
        "\t\t\t\t\t\tdevice=device_cuda,\n",
        "\t\t\t\t\t\tlogger=logger,\n",
        "\t\t\t\t\t\toutput_dir=OUTPUT_DIR,\n",
        "\t\t\t\t\t\tfinetuned_wgts_path=None,\n",
        "\t\t\t\t\t\twarmup_steps=500,\n",
        "\t\t\t\t\t\tmulti_gpu=True,\n",
        "\t\t\t\t\t\tis_fp16=True,\n",
        "\t\t\t\t\t\tmulti_label=False,\n",
        "\t\t\t\t\t\tlogging_steps=50)"
      ],
      "execution_count": null,
      "outputs": []
    },
    {
      "cell_type": "code",
      "metadata": {
        "id": "ldm7sw9TtV4N",
        "colab_type": "code",
        "colab": {}
      },
      "source": [
        "learner.lr_find(start_lr=1e-5,optimizer_type='lamb')"
      ],
      "execution_count": null,
      "outputs": []
    },
    {
      "cell_type": "code",
      "metadata": {
        "id": "SIAEwGkqzja9",
        "colab_type": "code",
        "colab": {}
      },
      "source": [
        "learner.fit(epochs=6,\n",
        "\t\t\tlr=6e-5,\n",
        "\t\t\tvalidate=True, \t# Evaluate the model after each epoch\n",
        "\t\t\tschedule_type=\"warmup_cosine\",\n",
        "\t\t\toptimizer_type=\"lamb\")"
      ],
      "execution_count": null,
      "outputs": []
    },
    {
      "cell_type": "code",
      "metadata": {
        "id": "LDgF7N8cz4sB",
        "colab_type": "code",
        "colab": {}
      },
      "source": [
        "learner.save_model()"
      ],
      "execution_count": null,
      "outputs": []
    },
    {
      "cell_type": "code",
      "metadata": {
        "id": "t4YUQ0bSz6qw",
        "colab_type": "code",
        "colab": {}
      },
      "source": [
        "from fast_bert.prediction import BertClassificationPredictor\n",
        "\n",
        "MODEL_PATH = OUTPUT_DIR/'model_out'\n",
        "\n",
        "predictor = BertClassificationPredictor(\n",
        "\t\t\t\tmodel_path=MODEL_PATH,\n",
        "\t\t\t\tlabel_path=LABEL_PATH, # location for labels.csv file\n",
        "\t\t\t\tmulti_label=False,\n",
        "\t\t\t\tmodel_type='xlnet',\n",
        "\t\t\t\tdo_lower_case=False)\n",
        "\n",
        "multiple_predictions = predictor.predict_batch(\"text.csv\")"
      ],
      "execution_count": null,
      "outputs": []
    }
  ]
}